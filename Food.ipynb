{
 "cells": [
  {
   "cell_type": "markdown",
   "metadata": {},
   "source": [
    "# В качестве проекта, возьмем датасет 'Reviews' с сайта kaggle.com. В данном датасете представлено 568454 отзыва о различных продуктах с сайта Amazon. Попробуем предсказать оценку продукта, на основе отзывов."
   ]
  },
  {
   "cell_type": "code",
   "execution_count": 1,
   "metadata": {
    "collapsed": true
   },
   "outputs": [],
   "source": [
    "import pandas as pd\n",
    "import numpy as np\n",
    "from matplotlib import pyplot as plt\n",
    "%matplotlib inline\n",
    "import lightgbm as lgb\n",
    "\n",
    "import seaborn as sns\n",
    "import pickle\n",
    "from collections import Counter\n",
    "from sklearn.model_selection import train_test_split\n",
    "\n",
    "from sklearn.feature_extraction.text import CountVectorizer\n",
    "from sklearn.feature_extraction.text import TfidfVectorizer\n",
    "\n",
    "import re\n",
    "import nltk\n",
    "import os"
   ]
  },
  {
   "cell_type": "code",
   "execution_count": 2,
   "metadata": {
    "collapsed": true
   },
   "outputs": [],
   "source": [
    "reviews = pd.read_csv('Food\\\\reviews.csv')"
   ]
  },
  {
   "cell_type": "code",
   "execution_count": 5,
   "metadata": {},
   "outputs": [
    {
     "data": {
      "text/html": [
       "<div>\n",
       "<style>\n",
       "    .dataframe thead tr:only-child th {\n",
       "        text-align: right;\n",
       "    }\n",
       "\n",
       "    .dataframe thead th {\n",
       "        text-align: left;\n",
       "    }\n",
       "\n",
       "    .dataframe tbody tr th {\n",
       "        vertical-align: top;\n",
       "    }\n",
       "</style>\n",
       "<table border=\"1\" class=\"dataframe\">\n",
       "  <thead>\n",
       "    <tr style=\"text-align: right;\">\n",
       "      <th></th>\n",
       "      <th>Score</th>\n",
       "      <th>Text</th>\n",
       "    </tr>\n",
       "  </thead>\n",
       "  <tbody>\n",
       "    <tr>\n",
       "      <th>0</th>\n",
       "      <td>5</td>\n",
       "      <td>bought vitality canned dog food products good ...</td>\n",
       "    </tr>\n",
       "    <tr>\n",
       "      <th>1</th>\n",
       "      <td>1</td>\n",
       "      <td>product arrived labeled jumbo salted peanuts p...</td>\n",
       "    </tr>\n",
       "    <tr>\n",
       "      <th>2</th>\n",
       "      <td>4</td>\n",
       "      <td>confection centuries light pillowy citrus gela...</td>\n",
       "    </tr>\n",
       "    <tr>\n",
       "      <th>3</th>\n",
       "      <td>2</td>\n",
       "      <td>looking secret ingredient robitussin believe g...</td>\n",
       "    </tr>\n",
       "    <tr>\n",
       "      <th>4</th>\n",
       "      <td>5</td>\n",
       "      <td>great taffy great price wide assortment yummy ...</td>\n",
       "    </tr>\n",
       "  </tbody>\n",
       "</table>\n",
       "</div>"
      ],
      "text/plain": [
       "   Score                                               Text\n",
       "0      5  bought vitality canned dog food products good ...\n",
       "1      1  product arrived labeled jumbo salted peanuts p...\n",
       "2      4  confection centuries light pillowy citrus gela...\n",
       "3      2  looking secret ingredient robitussin believe g...\n",
       "4      5  great taffy great price wide assortment yummy ..."
      ]
     },
     "execution_count": 5,
     "metadata": {},
     "output_type": "execute_result"
    }
   ],
   "source": [
    "reviews.head()"
   ]
  },
  {
   "cell_type": "code",
   "execution_count": 6,
   "metadata": {},
   "outputs": [
    {
     "data": {
      "text/plain": [
       "(568454, 2)"
      ]
     },
     "execution_count": 6,
     "metadata": {},
     "output_type": "execute_result"
    }
   ],
   "source": [
    "reviews.shape"
   ]
  },
  {
   "cell_type": "markdown",
   "metadata": {},
   "source": [
    "#### Возьмем из нашей выборки все отзывы, при этом отсеим стоп слова с помощью библиотеки nltk."
   ]
  },
  {
   "cell_type": "code",
   "execution_count": 30,
   "metadata": {
    "collapsed": true
   },
   "outputs": [],
   "source": [
    "amazon_text = reviews['Text'].values\n",
    "from sklearn.feature_extraction import text\n",
    "for T in range(len(amazon_text)):\n",
    "    amazon_text[T] = re.sub(r\"[^A-Za-z0-9]\", \" \", amazon_text[T])\n",
    "    amazon_text[T] = ' '.join([word for word in amazon_text[T].lower().split() if word not in set(text.ENGLISH_STOP_WORDS)])"
   ]
  },
  {
   "cell_type": "markdown",
   "metadata": {},
   "source": [
    "#### Используем стемминг, а именно LancasterStemmer, для улучшения качества модели."
   ]
  },
  {
   "cell_type": "code",
   "execution_count": 31,
   "metadata": {
    "collapsed": true
   },
   "outputs": [],
   "source": [
    "from nltk.stem.lancaster import LancasterStemmer\n",
    "st = LancasterStemmer()\n",
    "for i in range(len(amazon_text)):\n",
    "    try:\n",
    "        amazon_text[i] = st.stem(amazon_text[i])\n",
    "    except:\n",
    "        amazon_text[i] = amazon_text[i]"
   ]
  },
  {
   "cell_type": "markdown",
   "metadata": {},
   "source": [
    "#### Почистим отзывы от стоп слов, представленных ниже."
   ]
  },
  {
   "cell_type": "code",
   "execution_count": 142,
   "metadata": {
    "collapsed": true
   },
   "outputs": [],
   "source": [
    "def textClean(text):\n",
    "    text = re.sub(r\"[^A-Za-z0-9^,!.\\/'+-=]\", \" \", text)\n",
    "    text = text.lower().split()\n",
    "    stops = {'so', 'his', 't', 'y', 'ours', 'herself', \n",
    "             'your', 'all', 'some', 'they', 'i', 'of', 'didn', \n",
    "             'them', 'when', 'will', 'that', 'its', 'because', \n",
    "             'while', 'those', 'my', 'don', 'again', 'her', 'if',\n",
    "             'further', 'now', 'does', 'against', 'won', 'same', \n",
    "             'a', 'during', 'who', 'here', 'have', 'in', 'being', \n",
    "             'it', 'other', 'once', 'itself', 'hers', 'after', 're',\n",
    "             'just', 'their', 'himself', 'theirs', 'whom', 'then', 'd', \n",
    "             'out', 'm', 'mustn', 'where', 'below', 'about', 'isn',\n",
    "             'shouldn', 'wouldn', 'these', 'me', 'to', 'doesn', 'into',\n",
    "             'the', 'until', 'she', 'am', 'under', 'how', 'yourself',\n",
    "             'couldn', 'ma', 'up', 'than', 'from', 'themselves', 'yourselves',\n",
    "             'off', 'above', 'yours', 'having', 'mightn', 'needn', 'on', \n",
    "             'too', 'there', 'an', 'and', 'down', 'ourselves', 'each',\n",
    "             'hadn', 'ain', 'such', 've', 'did', 'be', 'or', 'aren', 'he', \n",
    "             'should', 'for', 'both', 'doing', 'this', 'through', 'do', 'had',\n",
    "             'own', 'but', 'were', 'over', 'not', 'are', 'few', 'by', \n",
    "             'been', 'most', 'no', 'as', 'was', 'what', 's', 'is', 'you', \n",
    "             'shan', 'between', 'wasn', 'has', 'more', 'him', 'nor',\n",
    "             'can', 'why', 'any', 'at', 'myself', 'very', 'with', 'we', \n",
    "             'which', 'hasn', 'weren', 'haven', 'our', 'll', 'only',\n",
    "             'o', 'before', 'br'}\n",
    "    text = [w for w in text if not w in stops]    \n",
    "    text = \" \".join(text)\n",
    "    text = text.replace(\".\",\" \").replace(\",\",\" \")\n",
    "    return(text)"
   ]
  },
  {
   "cell_type": "code",
   "execution_count": 144,
   "metadata": {
    "collapsed": true
   },
   "outputs": [],
   "source": [
    "for i in range(len(amazon_text)):\n",
    "    amazon_text[i] = textClean(amazon_text[i])"
   ]
  },
  {
   "cell_type": "markdown",
   "metadata": {},
   "source": [
    "#### Сохраним датасет"
   ]
  },
  {
   "cell_type": "code",
   "execution_count": 145,
   "metadata": {
    "collapsed": true
   },
   "outputs": [],
   "source": [
    "reviews['Text'] = amazon_text\n",
    "reviews.to_csv('Food\\\\reviews.csv',sep=',',index=None,header=True)"
   ]
  },
  {
   "cell_type": "code",
   "execution_count": 7,
   "metadata": {},
   "outputs": [
    {
     "data": {
      "text/html": [
       "<div>\n",
       "<style>\n",
       "    .dataframe thead tr:only-child th {\n",
       "        text-align: right;\n",
       "    }\n",
       "\n",
       "    .dataframe thead th {\n",
       "        text-align: left;\n",
       "    }\n",
       "\n",
       "    .dataframe tbody tr th {\n",
       "        vertical-align: top;\n",
       "    }\n",
       "</style>\n",
       "<table border=\"1\" class=\"dataframe\">\n",
       "  <thead>\n",
       "    <tr style=\"text-align: right;\">\n",
       "      <th></th>\n",
       "      <th>Score</th>\n",
       "      <th>Text</th>\n",
       "    </tr>\n",
       "  </thead>\n",
       "  <tbody>\n",
       "    <tr>\n",
       "      <th>0</th>\n",
       "      <td>5</td>\n",
       "      <td>bought vitality canned dog food products good ...</td>\n",
       "    </tr>\n",
       "    <tr>\n",
       "      <th>1</th>\n",
       "      <td>1</td>\n",
       "      <td>product arrived labeled jumbo salted peanuts p...</td>\n",
       "    </tr>\n",
       "    <tr>\n",
       "      <th>2</th>\n",
       "      <td>4</td>\n",
       "      <td>confection centuries light pillowy citrus gela...</td>\n",
       "    </tr>\n",
       "    <tr>\n",
       "      <th>3</th>\n",
       "      <td>2</td>\n",
       "      <td>looking secret ingredient robitussin believe g...</td>\n",
       "    </tr>\n",
       "    <tr>\n",
       "      <th>4</th>\n",
       "      <td>5</td>\n",
       "      <td>great taffy great price wide assortment yummy ...</td>\n",
       "    </tr>\n",
       "  </tbody>\n",
       "</table>\n",
       "</div>"
      ],
      "text/plain": [
       "   Score                                               Text\n",
       "0      5  bought vitality canned dog food products good ...\n",
       "1      1  product arrived labeled jumbo salted peanuts p...\n",
       "2      4  confection centuries light pillowy citrus gela...\n",
       "3      2  looking secret ingredient robitussin believe g...\n",
       "4      5  great taffy great price wide assortment yummy ..."
      ]
     },
     "execution_count": 7,
     "metadata": {},
     "output_type": "execute_result"
    }
   ],
   "source": [
    "reviews.head()"
   ]
  },
  {
   "cell_type": "markdown",
   "metadata": {},
   "source": [
    "#### Посмотрим на нашу выборку подробнее."
   ]
  },
  {
   "cell_type": "code",
   "execution_count": 9,
   "metadata": {},
   "outputs": [
    {
     "data": {
      "text/html": [
       "<div>\n",
       "<style>\n",
       "    .dataframe thead tr:only-child th {\n",
       "        text-align: right;\n",
       "    }\n",
       "\n",
       "    .dataframe thead th {\n",
       "        text-align: left;\n",
       "    }\n",
       "\n",
       "    .dataframe tbody tr th {\n",
       "        vertical-align: top;\n",
       "    }\n",
       "</style>\n",
       "<table border=\"1\" class=\"dataframe\">\n",
       "  <thead>\n",
       "    <tr style=\"text-align: right;\">\n",
       "      <th></th>\n",
       "      <th>Score</th>\n",
       "    </tr>\n",
       "  </thead>\n",
       "  <tbody>\n",
       "    <tr>\n",
       "      <th>count</th>\n",
       "      <td>568454.000000</td>\n",
       "    </tr>\n",
       "    <tr>\n",
       "      <th>mean</th>\n",
       "      <td>4.183199</td>\n",
       "    </tr>\n",
       "    <tr>\n",
       "      <th>std</th>\n",
       "      <td>1.310436</td>\n",
       "    </tr>\n",
       "    <tr>\n",
       "      <th>min</th>\n",
       "      <td>1.000000</td>\n",
       "    </tr>\n",
       "    <tr>\n",
       "      <th>25%</th>\n",
       "      <td>4.000000</td>\n",
       "    </tr>\n",
       "    <tr>\n",
       "      <th>50%</th>\n",
       "      <td>5.000000</td>\n",
       "    </tr>\n",
       "    <tr>\n",
       "      <th>75%</th>\n",
       "      <td>5.000000</td>\n",
       "    </tr>\n",
       "    <tr>\n",
       "      <th>max</th>\n",
       "      <td>5.000000</td>\n",
       "    </tr>\n",
       "  </tbody>\n",
       "</table>\n",
       "</div>"
      ],
      "text/plain": [
       "               Score\n",
       "count  568454.000000\n",
       "mean        4.183199\n",
       "std         1.310436\n",
       "min         1.000000\n",
       "25%         4.000000\n",
       "50%         5.000000\n",
       "75%         5.000000\n",
       "max         5.000000"
      ]
     },
     "execution_count": 9,
     "metadata": {},
     "output_type": "execute_result"
    }
   ],
   "source": [
    "reviews.describe()"
   ]
  },
  {
   "cell_type": "code",
   "execution_count": 33,
   "metadata": {},
   "outputs": [
    {
     "data": {
      "text/plain": [
       "<matplotlib.axes._subplots.AxesSubplot at 0x1440c7b8>"
      ]
     },
     "execution_count": 33,
     "metadata": {},
     "output_type": "execute_result"
    },
    {
     "data": {
      "image/png": "[encoded data removed]",
      "text/plain": [
       "<matplotlib.figure.Figure at 0xea43c88>"
      ]
     },
     "metadata": {},
     "output_type": "display_data"
    }
   ],
   "source": [
    "sns.countplot(x=\"Score\", data=reviews, palette=\"Greens_d\")"
   ]
  },
  {
   "cell_type": "markdown",
   "metadata": {},
   "source": [
    "#### Выборка несбалансированна. Больше половины отзывов имеют оценку 5."
   ]
  },
  {
   "cell_type": "markdown",
   "metadata": {},
   "source": [
    "#### Посмотрим на самые популярные слова в нашей выборке."
   ]
  },
  {
   "cell_type": "code",
   "execution_count": 132,
   "metadata": {
    "collapsed": true
   },
   "outputs": [],
   "source": [
    "def get_popular_words(data):\n",
    "    all_data = []\n",
    "    for i in range(len(data)):\n",
    "        all_data.extend(data[i].split(' '))\n",
    "    counter = Counter(all_data)\n",
    "    counter = np.array(counter.most_common(10))\n",
    "    counter = counter.transpose()\n",
    "    result = []\n",
    "    for i in range(10):\n",
    "        for j in range(0,int(counter[1][i])):\n",
    "            result.append(counter[0][i])\n",
    "    return result"
   ]
  },
  {
   "cell_type": "code",
   "execution_count": 146,
   "metadata": {},
   "outputs": [
    {
     "data": {
      "text/plain": [
       "<matplotlib.axes._subplots.AxesSubplot at 0xe97b0b8>"
      ]
     },
     "execution_count": 146,
     "metadata": {},
     "output_type": "execute_result"
    },
    {
     "data": {
      "image/png": "[encoded data removed]",
      "text/plain": [
       "<matplotlib.figure.Figure at 0x4e0ebdd8>"
      ]
     },
     "metadata": {},
     "output_type": "display_data"
    }
   ],
   "source": [
    "temp = get_popular_words(reviews.Text.values)\n",
    "sns.countplot(x=temp,palette=\"Greens_d\")"
   ]
  },
  {
   "cell_type": "markdown",
   "metadata": {},
   "source": [
    "#### Популярны \"положительные\" слова good, taste, great, like, love, flavor, а также \"нейтральные\" food, tea,coffee, product."
   ]
  },
  {
   "cell_type": "markdown",
   "metadata": {},
   "source": [
    "#### Разобьем выборку отзывов на тренировочну, проверочную и тестовую, для создания модели."
   ]
  },
  {
   "cell_type": "code",
   "execution_count": 154,
   "metadata": {
    "collapsed": true
   },
   "outputs": [],
   "source": [
    "X_train, X_text, Y_train, Y_test = train_test_split(reviews['Text'], reviews['Score'], test_size=0.2, random_state=1)\n",
    "X_train, X_valid, Y_train, Y_valid = train_test_split(X_train, Y_train, test_size=0.25, random_state=1)"
   ]
  },
  {
   "cell_type": "markdown",
   "metadata": {},
   "source": [
    "#### В качестве модели в конечном итоге будем использовать библиотеку lightgbm, по этому изменим метки классов из множества {1,2,3,4,5} в множество {0,1,2,3,4}."
   ]
  },
  {
   "cell_type": "code",
   "execution_count": 155,
   "metadata": {
    "collapsed": true
   },
   "outputs": [],
   "source": [
    "def make_good_labels(labels):\n",
    "    return labels.values - 1\n",
    "Y_train = make_good_labels(Y_train)\n",
    "Y_test = make_good_labels(Y_test)\n",
    "Y_valid = make_good_labels(Y_valid)"
   ]
  },
  {
   "cell_type": "markdown",
   "metadata": {},
   "source": [
    "#### В силу того что тренировочная выборка имеет более 300000 объектов и ограниченности ресурсов, у нас нет  возможности настраивать гиперпараметры в полном объеме, так как на обучение одной модели уходит порядка 4 часов. По этому рассмотри всего две модели: в одной мы будем использовать только 1-граммы  из слов, во второй -  1-граммы, 2-граммы, 1-2-граммы. "
   ]
  },
  {
   "cell_type": "markdown",
   "metadata": {},
   "source": [
    "#### В качестве метрики качества будем использовать оценку multilogloss. Это общий случай оценки logloss для более чем двух классов."
   ]
  },
  {
   "cell_type": "markdown",
   "metadata": {},
   "source": [
    "#### Первая модель"
   ]
  },
  {
   "cell_type": "code",
   "execution_count": 54,
   "metadata": {},
   "outputs": [
    {
     "name": "stdout",
     "output_type": "stream",
     "text": [
      "(341072, 96695)\n",
      "(113691, 96695)\n",
      "(113691, 96695)\n",
      "Wall time: 3min 51s\n"
     ]
    }
   ],
   "source": [
    "%%time\n",
    "count_vectorizer = TfidfVectorizer(ngram_range=(1,1), max_df = 0.75,\n",
    "                        tokenizer=nltk.word_tokenize,\n",
    "                        strip_accents='unicode',\n",
    "                        lowercase =True, analyzer='word', token_pattern=r'\\w+',\n",
    "                        use_idf=True, smooth_idf=True, sublinear_tf=False, \n",
    "                        stop_words = 'english')\n",
    "vect_X_train = count_vectorizer.fit_transform(X_train)\n",
    "print(vect_X_train.shape)\n",
    "vect_X_test = count_vectorizer.transform(X_text)\n",
    "print(vect_X_test.shape)\n",
    "vect_X_valid = count_vectorizer.transform(X_valid)\n",
    "print(vect_X_test.shape)\n",
    "\n",
    "\n",
    "with open('Food\\\\vect_X_train_1_1.pkl', 'wb') as vect_X_train_pkl:\n",
    "    pickle.dump(vect_X_train, vect_X_train_pkl, protocol=2)\n",
    "with open('Food\\\\vect_X_test_1_1.pkl', 'wb') as vect_X_test_pkl:\n",
    "    pickle.dump(vect_X_test, vect_X_test_pkl, protocol=2)\n",
    "with open('Food\\\\vect_X_valid_1_1.pkl', 'wb') as vect_X_valid_pkl:\n",
    "    pickle.dump(vect_X_valid, vect_X_valid_pkl, protocol=2)"
   ]
  },
  {
   "cell_type": "code",
   "execution_count": 55,
   "metadata": {
    "collapsed": true
   },
   "outputs": [],
   "source": [
    "d_train = lgb.Dataset(vect_X_train, label=Y_train)\n",
    "d_val = lgb.Dataset(vect_X_valid, label=Y_valid)"
   ]
  },
  {
   "cell_type": "markdown",
   "metadata": {},
   "source": [
    "#### Обучение первой модели "
   ]
  },
  {
   "cell_type": "code",
   "execution_count": 56,
   "metadata": {},
   "outputs": [
    {
     "name": "stdout",
     "output_type": "stream",
     "text": [
      "Training until validation scores don't improve for 20 rounds.\n",
      "[250]\tdval's multi_logloss: 0.802116\n",
      "[500]\tdval's multi_logloss: 0.744661\n",
      "[750]\tdval's multi_logloss: 0.713306\n",
      "[1000]\tdval's multi_logloss: 0.692112\n",
      "[1250]\tdval's multi_logloss: 0.676572\n",
      "[1500]\tdval's multi_logloss: 0.664195\n",
      "[1750]\tdval's multi_logloss: 0.654378\n",
      "[2000]\tdval's multi_logloss: 0.646093\n",
      "[2250]\tdval's multi_logloss: 0.639297\n",
      "[2500]\tdval's multi_logloss: 0.633163\n",
      "[2750]\tdval's multi_logloss: 0.627681\n",
      "[3000]\tdval's multi_logloss: 0.623056\n",
      "[3250]\tdval's multi_logloss: 0.618955\n",
      "[3500]\tdval's multi_logloss: 0.615195\n",
      "[3750]\tdval's multi_logloss: 0.612041\n",
      "[4000]\tdval's multi_logloss: 0.609034\n",
      "[4250]\tdval's multi_logloss: 0.606381\n",
      "[4500]\tdval's multi_logloss: 0.603909\n",
      "[4750]\tdval's multi_logloss: 0.601583\n",
      "[5000]\tdval's multi_logloss: 0.599578\n",
      "[5250]\tdval's multi_logloss: 0.597659\n",
      "[5500]\tdval's multi_logloss: 0.59602\n",
      "[5750]\tdval's multi_logloss: 0.594446\n",
      "[6000]\tdval's multi_logloss: 0.593096\n",
      "[6250]\tdval's multi_logloss: 0.591798\n",
      "[6500]\tdval's multi_logloss: 0.590605\n",
      "[6750]\tdval's multi_logloss: 0.589533\n",
      "[7000]\tdval's multi_logloss: 0.588595\n",
      "[7250]\tdval's multi_logloss: 0.587794\n",
      "[7500]\tdval's multi_logloss: 0.587061\n",
      "Early stopping, best iteration is:\n",
      "[7531]\tdval's multi_logloss: 0.586941\n",
      "Wall time: 4h 38min 35s\n"
     ]
    }
   ],
   "source": [
    "%%time\n",
    "params = {'task': 'train',\n",
    "    'boosting_type': 'gbdt',\n",
    "    'objective': 'multiclass',\n",
    "    'num_class': 5,\n",
    "    'metric': {'multi_logloss'},\n",
    "    'learning_rate': 0.05, \n",
    "    'max_depth': 13,\n",
    "    'num_iterations': 100000, \n",
    "    'num_leaves': 50, \n",
    "    'min_data_in_leaf': 80, \n",
    "    'lambda_l2': 1.0,\n",
    "    'feature_fraction': 0.85, \n",
    "    'bagging_fraction': 0.85, \n",
    "    'bagging_freq': 5}\n",
    "\n",
    "model_1_1 = lgb.train(params, train_set=d_train, num_boost_round=280,\n",
    "               valid_sets=[d_val], valid_names=['dval'], verbose_eval=250,\n",
    "               early_stopping_rounds=20)"
   ]
  },
  {
   "cell_type": "markdown",
   "metadata": {},
   "source": [
    "#### Сохранение первой модели"
   ]
  },
  {
   "cell_type": "code",
   "execution_count": 57,
   "metadata": {
    "collapsed": true
   },
   "outputs": [],
   "source": [
    "with open('Food\\\\model_1_1.pkl', 'wb') as model_1_1_pkl:\n",
    "    pickle.dump(model_1_1, model_1_1_pkl, protocol=2)"
   ]
  },
  {
   "cell_type": "markdown",
   "metadata": {
    "collapsed": true
   },
   "source": [
    "#### Вторая модель"
   ]
  },
  {
   "cell_type": "code",
   "execution_count": 58,
   "metadata": {},
   "outputs": [
    {
     "name": "stdout",
     "output_type": "stream",
     "text": [
      "(341072, 3104786)\n",
      "(113691, 3104786)\n",
      "(113691, 3104786)\n",
      "Wall time: 4min 4s\n"
     ]
    }
   ],
   "source": [
    "%%time\n",
    "count_vectorizer = TfidfVectorizer(ngram_range=(1,2), max_df = 0.75,\n",
    "                        tokenizer=nltk.word_tokenize,\n",
    "                        strip_accents='unicode',\n",
    "                        lowercase =True, analyzer='word', token_pattern=r'\\w+',\n",
    "                        use_idf=True, smooth_idf=True, sublinear_tf=False, \n",
    "                        stop_words = 'english')\n",
    "vect_X_train = count_vectorizer.fit_transform(X_train)\n",
    "print(vect_X_train.shape)\n",
    "vect_X_test = count_vectorizer.transform(X_text)\n",
    "print(vect_X_test.shape)\n",
    "vect_X_valid = count_vectorizer.transform(X_valid)\n",
    "print(vect_X_test.shape)\n",
    "import pickle\n",
    "\n",
    "with open('Food\\\\vect_X_train_1_2.pkl', 'wb') as vect_X_train_pkl:\n",
    "    pickle.dump(vect_X_train, vect_X_train_pkl, protocol=2)\n",
    "with open('Food\\\\vect_X_test_1_2.pkl', 'wb') as vect_X_test_pkl:\n",
    "    pickle.dump(vect_X_test, vect_X_test_pkl, protocol=2)\n",
    "with open('Food\\\\vect_X_valid_1_2.pkl', 'wb') as vect_X_valid_pkl:\n",
    "    pickle.dump(vect_X_valid, vect_X_valid_pkl, protocol=2)"
   ]
  },
  {
   "cell_type": "code",
   "execution_count": 59,
   "metadata": {
    "collapsed": true
   },
   "outputs": [],
   "source": [
    "d_train = lgb.Dataset(vect_X_train, label=Y_train)\n",
    "d_val = lgb.Dataset(vect_X_valid, label=Y_valid)"
   ]
  },
  {
   "cell_type": "markdown",
   "metadata": {},
   "source": [
    "#### Обучение второй модели"
   ]
  },
  {
   "cell_type": "code",
   "execution_count": null,
   "metadata": {},
   "outputs": [
    {
     "name": "stdout",
     "output_type": "stream",
     "text": [
      "Training until validation scores don't improve for 20 rounds.\n",
      "[500]\tdval's multi_logloss: 0.737353\n",
      "[750]\tdval's multi_logloss: 0.705995\n",
      "[1000]\tdval's multi_logloss: 0.68506\n",
      "[1250]\tdval's multi_logloss: 0.66965\n",
      "[1500]\tdval's multi_logloss: 0.657401\n",
      "[1750]\tdval's multi_logloss: 0.647419\n",
      "[2000]\tdval's multi_logloss: 0.639154\n",
      "[2250]\tdval's multi_logloss: 0.632341\n",
      "[2500]\tdval's multi_logloss: 0.626558\n",
      "[2750]\tdval's multi_logloss: 0.621579\n",
      "[3000]\tdval's multi_logloss: 0.617094\n",
      "[3250]\tdval's multi_logloss: 0.613467\n",
      "[3500]\tdval's multi_logloss: 0.609982\n",
      "[3750]\tdval's multi_logloss: 0.607007\n",
      "[4000]\tdval's multi_logloss: 0.604248\n",
      "[4250]\tdval's multi_logloss: 0.601808\n",
      "[4500]\tdval's multi_logloss: 0.59972\n",
      "[4750]\tdval's multi_logloss: 0.59773\n",
      "[5000]\tdval's multi_logloss: 0.596009\n",
      "[5250]\tdval's multi_logloss: 0.594658\n",
      "[5500]\tdval's multi_logloss: 0.593239\n",
      "[5750]\tdval's multi_logloss: 0.59206\n",
      "[6000]\tdval's multi_logloss: 0.591045\n",
      "[6250]\tdval's multi_logloss: 0.589927\n",
      "[6500]\tdval's multi_logloss: 0.589171\n",
      "[6750]\tdval's multi_logloss: 0.588207\n",
      "Early stopping, best iteration is:\n",
      "[6826]\tdval's multi_logloss: 0.588051\n",
      "Wall time: 4h 26min 33s\n"
     ]
    }
   ],
   "source": [
    "%%time\n",
    "params = {'task': 'train',\n",
    "    'boosting_type': 'gbdt',\n",
    "    'objective': 'multiclass',\n",
    "    'num_class': 5,\n",
    "    'metric': {'multi_logloss'},\n",
    "    'learning_rate': 0.05, \n",
    "    'max_depth': 13,\n",
    "    'num_iterations': 100000, \n",
    "    'num_leaves': 50, \n",
    "    'min_data_in_leaf': 80, \n",
    "    'lambda_l2': 1.0,\n",
    "    'feature_fraction': 0.85, \n",
    "    'bagging_fraction': 0.85, \n",
    "    'bagging_freq': 5}\n",
    "\n",
    "model_1_2 = lgb.train(params, train_set=d_train, num_boost_round=280,\n",
    "               valid_sets=[d_val], valid_names=['dval'], verbose_eval=250,\n",
    "               early_stopping_rounds=20)"
   ]
  },
  {
   "cell_type": "markdown",
   "metadata": {},
   "source": [
    "#### Сохранение второй модели"
   ]
  },
  {
   "cell_type": "code",
   "execution_count": null,
   "metadata": {
    "collapsed": true
   },
   "outputs": [],
   "source": [
    "with open('Food\\\\model_1_2.pkl', 'wb') as model_1_2_pkl:\n",
    "    pickle.dump(model_1_2, model_1_2_pkl, protocol=2)"
   ]
  },
  {
   "cell_type": "markdown",
   "metadata": {
    "collapsed": true
   },
   "source": [
    "#### Первая модель показала лучше результат чем вторая, давайте оставим для работы ее."
   ]
  },
  {
   "cell_type": "code",
   "execution_count": 151,
   "metadata": {
    "collapsed": true
   },
   "outputs": [],
   "source": [
    "with open('Food\\\\vect_X_test_1_1.pkl', 'rb') as vect_X_test_1_1_pkl:\n",
    "    vect_X_test_1_1 = pickle.load(vect_X_test_1_1_pkl)\n",
    "with open('Food\\\\model_1_1.pkl', 'rb') as model_1_1_pkl:\n",
    "    model_1_1 = pickle.load(model_1_1_pkl)"
   ]
  },
  {
   "cell_type": "code",
   "execution_count": 152,
   "metadata": {
    "collapsed": true
   },
   "outputs": [],
   "source": [
    "y_predict = model_1_1.predict(vect_X_test_1_1)"
   ]
  },
  {
   "cell_type": "markdown",
   "metadata": {},
   "source": [
    "#### Посчитаем multi log loss для тестовой выборки. Идея реализации взята с сайта kaggle.com"
   ]
  },
  {
   "cell_type": "code",
   "execution_count": 169,
   "metadata": {},
   "outputs": [
    {
     "name": "stdout",
     "output_type": "stream",
     "text": [
      "Multi log loss for test: 0.5842148663\n"
     ]
    }
   ],
   "source": [
    "def multiclass_log_loss(y_true, y_predict):\n",
    "    actual = np.zeros(y_predict.shape)\n",
    "    rows = actual.shape[0]\n",
    "    actual[np.arange(rows), y_true.astype(int)] = 1\n",
    "    vsota = np.sum(actual * np.log(y_predict))\n",
    "    return -1.0 / rows * vsota\n",
    "print 'Multi log loss for test:',multiclass_log_loss(Y_test,y_predict)"
   ]
  },
  {
   "cell_type": "markdown",
   "metadata": {},
   "source": [
    "#### Значение очень близкое со значением для проверочной выборки, из чего мы можем сделать вывод об отсутствии переобучения."
   ]
  },
  {
   "cell_type": "markdown",
   "metadata": {},
   "source": [
    "#### Посмотрим на гистограммы распределений"
   ]
  },
  {
   "cell_type": "markdown",
   "metadata": {},
   "source": [
    "#### Истинные значения для тестовой выборки"
   ]
  },
  {
   "cell_type": "code",
   "execution_count": 170,
   "metadata": {},
   "outputs": [
    {
     "data": {
      "text/plain": [
       "<matplotlib.axes._subplots.AxesSubplot at 0x13bd9b70>"
      ]
     },
     "execution_count": 170,
     "metadata": {},
     "output_type": "execute_result"
    },
    {
     "data": {
      "image/png": "[encoded data removed]",
      "text/plain": [
       "<matplotlib.figure.Figure at 0x13bdbb38>"
      ]
     },
     "metadata": {},
     "output_type": "display_data"
    }
   ],
   "source": [
    "sns.countplot(x=Y_test,palette=\"Greens_d\")"
   ]
  },
  {
   "cell_type": "markdown",
   "metadata": {},
   "source": [
    "#### Предсказанные значения для тестовой выборки"
   ]
  },
  {
   "cell_type": "code",
   "execution_count": 175,
   "metadata": {},
   "outputs": [
    {
     "data": {
      "text/plain": [
       "<matplotlib.axes._subplots.AxesSubplot at 0x14327198>"
      ]
     },
     "execution_count": 175,
     "metadata": {},
     "output_type": "execute_result"
    },
    {
     "data": {
      "image/png": "[encoded data removed]",
      "text/plain": [
       "<matplotlib.figure.Figure at 0x13e6ecc0>"
      ]
     },
     "metadata": {},
     "output_type": "display_data"
    }
   ],
   "source": [
    "def get_label(data):\n",
    "    label = []\n",
    "    for i in range(len(data)):\n",
    "        label.append(list(data[i]).index(max(data[i])))\n",
    "    return label\n",
    "predict_labels = get_label(y_predict)\n",
    "sns.countplot(x=predict_labels,palette=\"Greens_d\")"
   ]
  },
  {
   "cell_type": "code",
   "execution_count": 177,
   "metadata": {},
   "outputs": [
    {
     "data": {
      "text/html": [
       "<div>\n",
       "<style>\n",
       "    .dataframe thead tr:only-child th {\n",
       "        text-align: right;\n",
       "    }\n",
       "\n",
       "    .dataframe thead th {\n",
       "        text-align: left;\n",
       "    }\n",
       "\n",
       "    .dataframe tbody tr th {\n",
       "        vertical-align: top;\n",
       "    }\n",
       "</style>\n",
       "<table border=\"1\" class=\"dataframe\">\n",
       "  <thead>\n",
       "    <tr style=\"text-align: right;\">\n",
       "      <th></th>\n",
       "      <th>True</th>\n",
       "      <th>Predict</th>\n",
       "    </tr>\n",
       "  </thead>\n",
       "  <tbody>\n",
       "    <tr>\n",
       "      <th>0</th>\n",
       "      <td>4</td>\n",
       "      <td>4</td>\n",
       "    </tr>\n",
       "    <tr>\n",
       "      <th>1</th>\n",
       "      <td>4</td>\n",
       "      <td>4</td>\n",
       "    </tr>\n",
       "    <tr>\n",
       "      <th>2</th>\n",
       "      <td>4</td>\n",
       "      <td>4</td>\n",
       "    </tr>\n",
       "    <tr>\n",
       "      <th>3</th>\n",
       "      <td>4</td>\n",
       "      <td>4</td>\n",
       "    </tr>\n",
       "    <tr>\n",
       "      <th>4</th>\n",
       "      <td>4</td>\n",
       "      <td>2</td>\n",
       "    </tr>\n",
       "  </tbody>\n",
       "</table>\n",
       "</div>"
      ],
      "text/plain": [
       "   True  Predict\n",
       "0     4        4\n",
       "1     4        4\n",
       "2     4        4\n",
       "3     4        4\n",
       "4     4        2"
      ]
     },
     "execution_count": 177,
     "metadata": {},
     "output_type": "execute_result"
    }
   ],
   "source": [
    "labels_df = pd.DataFrame()\n",
    "labels_df['True'] = Y_test\n",
    "labels_df['Predict'] = predict_labels\n",
    "labels_df.head()"
   ]
  },
  {
   "cell_type": "code",
   "execution_count": 179,
   "metadata": {},
   "outputs": [
    {
     "data": {
      "text/html": [
       "<div>\n",
       "<style>\n",
       "    .dataframe thead tr:only-child th {\n",
       "        text-align: right;\n",
       "    }\n",
       "\n",
       "    .dataframe thead th {\n",
       "        text-align: left;\n",
       "    }\n",
       "\n",
       "    .dataframe tbody tr th {\n",
       "        vertical-align: top;\n",
       "    }\n",
       "</style>\n",
       "<table border=\"1\" class=\"dataframe\">\n",
       "  <thead>\n",
       "    <tr style=\"text-align: right;\">\n",
       "      <th></th>\n",
       "      <th>True</th>\n",
       "      <th>Predict</th>\n",
       "    </tr>\n",
       "  </thead>\n",
       "  <tbody>\n",
       "    <tr>\n",
       "      <th>count</th>\n",
       "      <td>113691.000000</td>\n",
       "      <td>113691.000000</td>\n",
       "    </tr>\n",
       "    <tr>\n",
       "      <th>mean</th>\n",
       "      <td>3.183823</td>\n",
       "      <td>3.342235</td>\n",
       "    </tr>\n",
       "    <tr>\n",
       "      <th>std</th>\n",
       "      <td>1.313292</td>\n",
       "      <td>1.270576</td>\n",
       "    </tr>\n",
       "    <tr>\n",
       "      <th>min</th>\n",
       "      <td>0.000000</td>\n",
       "      <td>0.000000</td>\n",
       "    </tr>\n",
       "    <tr>\n",
       "      <th>25%</th>\n",
       "      <td>3.000000</td>\n",
       "      <td>3.000000</td>\n",
       "    </tr>\n",
       "    <tr>\n",
       "      <th>50%</th>\n",
       "      <td>4.000000</td>\n",
       "      <td>4.000000</td>\n",
       "    </tr>\n",
       "    <tr>\n",
       "      <th>75%</th>\n",
       "      <td>4.000000</td>\n",
       "      <td>4.000000</td>\n",
       "    </tr>\n",
       "    <tr>\n",
       "      <th>max</th>\n",
       "      <td>4.000000</td>\n",
       "      <td>4.000000</td>\n",
       "    </tr>\n",
       "  </tbody>\n",
       "</table>\n",
       "</div>"
      ],
      "text/plain": [
       "                True        Predict\n",
       "count  113691.000000  113691.000000\n",
       "mean        3.183823       3.342235\n",
       "std         1.313292       1.270576\n",
       "min         0.000000       0.000000\n",
       "25%         3.000000       3.000000\n",
       "50%         4.000000       4.000000\n",
       "75%         4.000000       4.000000\n",
       "max         4.000000       4.000000"
      ]
     },
     "execution_count": 179,
     "metadata": {},
     "output_type": "execute_result"
    }
   ],
   "source": [
    "labels_df.describe()"
   ]
  },
  {
   "cell_type": "code",
   "execution_count": 181,
   "metadata": {},
   "outputs": [
    {
     "name": "stdout",
     "output_type": "stream",
     "text": [
      "True labels: Counter({4: 72835, 3: 15942, 0: 10556, 2: 8448, 1: 5910})\n",
      "Predict labels: Counter({4: 83359, 0: 10241, 3: 10163, 2: 6129, 1: 3799})\n"
     ]
    }
   ],
   "source": [
    "print 'True labels:',Counter(Y_test)\n",
    "print 'Predict labels:',Counter(predict_labels)\n"
   ]
  },
  {
   "cell_type": "markdown",
   "metadata": {},
   "source": [
    "### Выводы:"
   ]
  },
  {
   "cell_type": "markdown",
   "metadata": {},
   "source": [
    "#### Нам удалось построить модель для предсказания оценки отзыва на товар. Показатель Multi log loss для тестовой выборки составляет 0.58, что является неплохим результатом. Однако, в силу несбалансированности выборки, заметно преобладание 5-ого класса, что негативно сказалось на всей модели в целом, как видно из полученных результатов, модель слишком часто предсказывает 5-ый класс. Для борьбы с этим рекомендуется сбалансировать выборку. Это можно сделать двумя способами: или увеличить выборку путем добавления отзывов из других классов, или уменьшить выборку путем удаления отзывов для пятого класса."
   ]
  },
  {
   "cell_type": "markdown",
   "metadata": {},
   "source": [
    "#### Давайте отбаланасируем выборку и попробуем построить модель снова."
   ]
  },
  {
   "cell_type": "code",
   "execution_count": 3,
   "metadata": {},
   "outputs": [
    {
     "data": {
      "text/plain": [
       "Counter({1: 52268, 2: 29769, 3: 42640, 4: 80655, 5: 363122})"
      ]
     },
     "execution_count": 3,
     "metadata": {},
     "output_type": "execute_result"
    }
   ],
   "source": [
    "Counter(reviews.Score)"
   ]
  },
  {
   "cell_type": "markdown",
   "metadata": {},
   "source": [
    "#### Возьмем только 90000 отзывов с оценкой 5"
   ]
  },
  {
   "cell_type": "code",
   "execution_count": 15,
   "metadata": {},
   "outputs": [],
   "source": [
    "not_five_reviews = reviews[reviews.Score != 5]\n",
    "five_reviews = reviews[reviews.Score == 5][:90000]\n",
    "balanced_reviews = pd.merge(not_five_reviews,five_reviews, how = 'outer')\n",
    "balanced_reviews.to_csv('Food\\\\balanced_reviews.csv',sep=',',index=None,header=True)"
   ]
  },
  {
   "cell_type": "markdown",
   "metadata": {},
   "source": [
    "#### Разобьем выборку отзывов на тренировочну, проверочную и тестовую, для создания модели."
   ]
  },
  {
   "cell_type": "code",
   "execution_count": 16,
   "metadata": {
    "collapsed": true
   },
   "outputs": [],
   "source": [
    "X_train, X_text, Y_train, Y_test = train_test_split(balanced_reviews['Text'], balanced_reviews['Score'], test_size=0.2, random_state=1)\n",
    "X_train, X_valid, Y_train, Y_valid = train_test_split(X_train, Y_train, test_size=0.25, random_state=1)"
   ]
  },
  {
   "cell_type": "markdown",
   "metadata": {},
   "source": [
    "#### Убедимся, что распределение меток примерно одинаково в тренировочной, тестовой и проверочной выборках"
   ]
  },
  {
   "cell_type": "code",
   "execution_count": 20,
   "metadata": {},
   "outputs": [
    {
     "data": {
      "image/png": "[encoded data removed]",
      "text/plain": [
       "<matplotlib.figure.Figure at 0x8194a90>"
      ]
     },
     "metadata": {},
     "output_type": "display_data"
    },
    {
     "data": {
      "image/png": "[encoded data removed]",
      "text/plain": [
       "<matplotlib.figure.Figure at 0x14960dd8>"
      ]
     },
     "metadata": {},
     "output_type": "display_data"
    },
    {
     "data": {
      "text/plain": [
       "<matplotlib.axes._subplots.AxesSubplot at 0x14ac8748>"
      ]
     },
     "execution_count": 20,
     "metadata": {},
     "output_type": "execute_result"
    },
    {
     "data": {
      "image/png": "[encoded data removed]",
      "text/plain": [
       "<matplotlib.figure.Figure at 0x144d6978>"
      ]
     },
     "metadata": {},
     "output_type": "display_data"
    }
   ],
   "source": [
    "sns.countplot(x=Y_train,palette=\"Greens_d\")\n",
    "plt.show()\n",
    "sns.countplot(x=Y_test,palette=\"Greens_d\")\n",
    "plt.show()\n",
    "sns.countplot(x=Y_valid,palette=\"Greens_d\")"
   ]
  },
  {
   "cell_type": "markdown",
   "metadata": {},
   "source": [
    "#### Построим модель заново"
   ]
  },
  {
   "cell_type": "code",
   "execution_count": 21,
   "metadata": {},
   "outputs": [
    {
     "name": "stdout",
     "output_type": "stream",
     "text": [
      "(177198, 73359)\n",
      "(59067, 73359)\n",
      "(59067, 73359)\n",
      "Wall time: 1min 40s\n"
     ]
    }
   ],
   "source": [
    "%%time\n",
    "count_vectorizer = TfidfVectorizer(ngram_range=(1,1), max_df = 0.75,\n",
    "                        tokenizer=nltk.word_tokenize,\n",
    "                        strip_accents='unicode',\n",
    "                        lowercase =True, analyzer='word', token_pattern=r'\\w+',\n",
    "                        use_idf=True, smooth_idf=True, sublinear_tf=False, \n",
    "                        stop_words = 'english')\n",
    "vect_X_train = count_vectorizer.fit_transform(X_train)\n",
    "print(vect_X_train.shape)\n",
    "vect_X_test = count_vectorizer.transform(X_text)\n",
    "print(vect_X_test.shape)\n",
    "vect_X_valid = count_vectorizer.transform(X_valid)\n",
    "print(vect_X_test.shape)\n",
    "\n",
    "\n",
    "with open('Food\\\\balanced_vect_X_train_1_1.pkl', 'wb') as vect_X_train_pkl:\n",
    "    pickle.dump(vect_X_train, vect_X_train_pkl, protocol=2)\n",
    "with open('Food\\\\balanced_vect_X_test_1_1.pkl', 'wb') as vect_X_test_pkl:\n",
    "    pickle.dump(vect_X_test, vect_X_test_pkl, protocol=2)\n",
    "with open('Food\\\\balanced_vect_X_valid_1_1.pkl', 'wb') as vect_X_valid_pkl:\n",
    "    pickle.dump(vect_X_valid, vect_X_valid_pkl, protocol=2)"
   ]
  },
  {
   "cell_type": "code",
   "execution_count": 24,
   "metadata": {
    "collapsed": true
   },
   "outputs": [],
   "source": [
    "def make_good_labels(labels):\n",
    "    return labels.values - 1\n",
    "Y_train = make_good_labels(Y_train)\n",
    "Y_test = make_good_labels(Y_test)\n",
    "Y_valid = make_good_labels(Y_valid)\n",
    "\n",
    "\n",
    "d_train = lgb.Dataset(vect_X_train, label=Y_train)\n",
    "d_val = lgb.Dataset(vect_X_valid, label=Y_valid)"
   ]
  },
  {
   "cell_type": "code",
   "execution_count": 25,
   "metadata": {},
   "outputs": [
    {
     "name": "stdout",
     "output_type": "stream",
     "text": [
      "Training until validation scores don't improve for 20 rounds.\n",
      "[250]\tdval's multi_logloss: 1.11578\n",
      "[500]\tdval's multi_logloss: 1.04287\n",
      "[750]\tdval's multi_logloss: 1.00355\n",
      "[1000]\tdval's multi_logloss: 0.977027\n",
      "[1250]\tdval's multi_logloss: 0.957594\n",
      "[1500]\tdval's multi_logloss: 0.942199\n",
      "[1750]\tdval's multi_logloss: 0.929723\n",
      "[2000]\tdval's multi_logloss: 0.919082\n",
      "[2250]\tdval's multi_logloss: 0.910342\n",
      "[2500]\tdval's multi_logloss: 0.90301\n",
      "[2750]\tdval's multi_logloss: 0.896108\n",
      "[3000]\tdval's multi_logloss: 0.890281\n",
      "[3250]\tdval's multi_logloss: 0.885328\n",
      "[3500]\tdval's multi_logloss: 0.881067\n",
      "[3750]\tdval's multi_logloss: 0.877274\n",
      "[4000]\tdval's multi_logloss: 0.873794\n",
      "[4250]\tdval's multi_logloss: 0.870877\n",
      "[4500]\tdval's multi_logloss: 0.868253\n",
      "[4750]\tdval's multi_logloss: 0.865705\n",
      "[5000]\tdval's multi_logloss: 0.863624\n",
      "[5250]\tdval's multi_logloss: 0.861543\n",
      "[5500]\tdval's multi_logloss: 0.860107\n",
      "[5750]\tdval's multi_logloss: 0.858385\n",
      "[6000]\tdval's multi_logloss: 0.85702\n",
      "[6250]\tdval's multi_logloss: 0.855512\n",
      "[6500]\tdval's multi_logloss: 0.854519\n",
      "Early stopping, best iteration is:\n",
      "[6658]\tdval's multi_logloss: 0.85389\n",
      "Wall time: 2h 28min 53s\n"
     ]
    }
   ],
   "source": [
    "%%time\n",
    "params = {'task': 'train',\n",
    "    'boosting_type': 'gbdt',\n",
    "    'objective': 'multiclass',\n",
    "    'num_class': 5,\n",
    "    'metric': {'multi_logloss'},\n",
    "    'learning_rate': 0.05, \n",
    "    'max_depth': 13,\n",
    "    'num_iterations': 100000, \n",
    "    'num_leaves': 50, \n",
    "    'min_data_in_leaf': 80, \n",
    "    'lambda_l2': 1.0,\n",
    "    'feature_fraction': 0.85, \n",
    "    'bagging_fraction': 0.85, \n",
    "    'bagging_freq': 5}\n",
    "\n",
    "balanced_model_1_1 = lgb.train(params, train_set=d_train, num_boost_round=280,\n",
    "               valid_sets=[d_val], valid_names=['dval'], verbose_eval=250,\n",
    "               early_stopping_rounds=20)"
   ]
  },
  {
   "cell_type": "markdown",
   "metadata": {},
   "source": [
    "#### Сохраним модель"
   ]
  },
  {
   "cell_type": "code",
   "execution_count": 26,
   "metadata": {
    "collapsed": true
   },
   "outputs": [],
   "source": [
    "with open('Food\\\\balanced_model_1_1.pkl', 'wb') as model_1_1_pkl:\n",
    "    pickle.dump(balanced_model_1_1, model_1_1_pkl, protocol=2)"
   ]
  },
  {
   "cell_type": "markdown",
   "metadata": {},
   "source": [
    "#### Посчитаем multi log loss для тестовой выборки."
   ]
  },
  {
   "cell_type": "code",
   "execution_count": 28,
   "metadata": {},
   "outputs": [],
   "source": [
    "y_predict = balanced_model_1_1.predict(vect_X_test)"
   ]
  },
  {
   "cell_type": "code",
   "execution_count": 29,
   "metadata": {},
   "outputs": [
    {
     "name": "stdout",
     "output_type": "stream",
     "text": [
      "Multi log loss for test: 0.856768148223\n"
     ]
    }
   ],
   "source": [
    "def multiclass_log_loss(y_true, y_predict):\n",
    "    actual = np.zeros(y_predict.shape)\n",
    "    rows = actual.shape[0]\n",
    "    actual[np.arange(rows), y_true.astype(int)] = 1\n",
    "    vsota = np.sum(actual * np.log(y_predict))\n",
    "    return -1.0 / rows * vsota\n",
    "print 'Multi log loss for test:',multiclass_log_loss(Y_test,y_predict)"
   ]
  },
  {
   "cell_type": "markdown",
   "metadata": {},
   "source": [
    "#### Значение очень близкое со значением для проверочной выборки, из чего мы можем сделать вывод об отсутствии переобучения. Однако, значение multi log loss хуже, чем были до балансировки. "
   ]
  },
  {
   "cell_type": "markdown",
   "metadata": {},
   "source": [
    "#### Сравним полученные метки с истинными."
   ]
  },
  {
   "cell_type": "markdown",
   "metadata": {},
   "source": [
    "#### Истинные значения."
   ]
  },
  {
   "cell_type": "code",
   "execution_count": 30,
   "metadata": {},
   "outputs": [
    {
     "data": {
      "text/plain": [
       "<matplotlib.axes._subplots.AxesSubplot at 0x145adef0>"
      ]
     },
     "execution_count": 30,
     "metadata": {},
     "output_type": "execute_result"
    },
    {
     "data": {
      "image/png": "[encoded data removed]",
      "text/plain": [
       "<matplotlib.figure.Figure at 0x14aefd68>"
      ]
     },
     "metadata": {},
     "output_type": "display_data"
    }
   ],
   "source": [
    "sns.countplot(x=Y_test,palette=\"Greens_d\")"
   ]
  },
  {
   "cell_type": "markdown",
   "metadata": {},
   "source": [
    "#### Предсказанные значения."
   ]
  },
  {
   "cell_type": "code",
   "execution_count": 32,
   "metadata": {},
   "outputs": [
    {
     "data": {
      "text/plain": [
       "<matplotlib.axes._subplots.AxesSubplot at 0x145257f0>"
      ]
     },
     "execution_count": 32,
     "metadata": {},
     "output_type": "execute_result"
    },
    {
     "data": {
      "image/png": "[encoded data removed]",
      "text/plain": [
       "<matplotlib.figure.Figure at 0x144a3048>"
      ]
     },
     "metadata": {},
     "output_type": "display_data"
    }
   ],
   "source": [
    "def get_label(data):\n",
    "    label = []\n",
    "    for i in range(len(data)):\n",
    "        label.append(list(data[i]).index(max(data[i])))\n",
    "    return label\n",
    "predict_labels = get_label(y_predict)\n",
    "sns.countplot(x=predict_labels,palette=\"Greens_d\")"
   ]
  },
  {
   "cell_type": "markdown",
   "metadata": {},
   "source": [
    "#### Посмотрим на точность модели."
   ]
  },
  {
   "cell_type": "code",
   "execution_count": 33,
   "metadata": {},
   "outputs": [
    {
     "data": {
      "text/html": [
       "<div>\n",
       "<style>\n",
       "    .dataframe thead tr:only-child th {\n",
       "        text-align: right;\n",
       "    }\n",
       "\n",
       "    .dataframe thead th {\n",
       "        text-align: left;\n",
       "    }\n",
       "\n",
       "    .dataframe tbody tr th {\n",
       "        vertical-align: top;\n",
       "    }\n",
       "</style>\n",
       "<table border=\"1\" class=\"dataframe\">\n",
       "  <thead>\n",
       "    <tr style=\"text-align: right;\">\n",
       "      <th></th>\n",
       "      <th>True</th>\n",
       "      <th>Predict</th>\n",
       "    </tr>\n",
       "  </thead>\n",
       "  <tbody>\n",
       "    <tr>\n",
       "      <th>count</th>\n",
       "      <td>59067.000000</td>\n",
       "      <td>59067.000000</td>\n",
       "    </tr>\n",
       "    <tr>\n",
       "      <th>mean</th>\n",
       "      <td>2.422910</td>\n",
       "      <td>2.498552</td>\n",
       "    </tr>\n",
       "    <tr>\n",
       "      <th>std</th>\n",
       "      <td>1.453472</td>\n",
       "      <td>1.484423</td>\n",
       "    </tr>\n",
       "    <tr>\n",
       "      <th>min</th>\n",
       "      <td>0.000000</td>\n",
       "      <td>0.000000</td>\n",
       "    </tr>\n",
       "    <tr>\n",
       "      <th>25%</th>\n",
       "      <td>1.000000</td>\n",
       "      <td>1.000000</td>\n",
       "    </tr>\n",
       "    <tr>\n",
       "      <th>50%</th>\n",
       "      <td>3.000000</td>\n",
       "      <td>3.000000</td>\n",
       "    </tr>\n",
       "    <tr>\n",
       "      <th>75%</th>\n",
       "      <td>4.000000</td>\n",
       "      <td>4.000000</td>\n",
       "    </tr>\n",
       "    <tr>\n",
       "      <th>max</th>\n",
       "      <td>4.000000</td>\n",
       "      <td>4.000000</td>\n",
       "    </tr>\n",
       "  </tbody>\n",
       "</table>\n",
       "</div>"
      ],
      "text/plain": [
       "               True       Predict\n",
       "count  59067.000000  59067.000000\n",
       "mean       2.422910      2.498552\n",
       "std        1.453472      1.484423\n",
       "min        0.000000      0.000000\n",
       "25%        1.000000      1.000000\n",
       "50%        3.000000      3.000000\n",
       "75%        4.000000      4.000000\n",
       "max        4.000000      4.000000"
      ]
     },
     "execution_count": 33,
     "metadata": {},
     "output_type": "execute_result"
    }
   ],
   "source": [
    "labels_df = pd.DataFrame()\n",
    "labels_df['True'] = Y_test\n",
    "labels_df['Predict'] = predict_labels\n",
    "labels_df.describe()"
   ]
  },
  {
   "cell_type": "code",
   "execution_count": 38,
   "metadata": {},
   "outputs": [
    {
     "name": "stdout",
     "output_type": "stream",
     "text": [
      "Accuracy: 0.672846090033\n"
     ]
    }
   ],
   "source": [
    "print 'Accuracy:',float(labels_df[labels_df.True == labels_df.Predict].shape[0]) / labels_df.shape[0]"
   ]
  },
  {
   "cell_type": "code",
   "execution_count": 40,
   "metadata": {},
   "outputs": [
    {
     "name": "stdout",
     "output_type": "stream",
     "text": [
      "Accuracy with 1-step error: 0.89914842467\n"
     ]
    }
   ],
   "source": [
    "print 'Accuracy with 1-step error:',(float(labels_df[labels_df.True == labels_df.Predict - 1].shape[0]) + float(labels_df[labels_df.True == labels_df.Predict + 1].shape[0]) + float(labels_df[labels_df.True == labels_df.Predict].shape[0]))/ labels_df.shape[0]"
   ]
  },
  {
   "cell_type": "markdown",
   "metadata": {},
   "source": [
    "### Выводы:"
   ]
  },
  {
   "cell_type": "markdown",
   "metadata": {},
   "source": [
    "#### Нам удалось построить модель для предсказания оценки отзыва на товар. Мы не столкнулись с проблемой переобучения. Точность нашей модели составляет 0.67, что для мультиклассовой классификации является неплохим результатом. При этом, если упростить шкалу оценок от \"1 до 5\" на \"от 1 до 3\", точность составляет около 0.9."
   ]
  }
 ],
 "metadata": {
  "kernelspec": {
   "display_name": "Python 2",
   "language": "python",
   "name": "python2"
  },
  "language_info": {
   "codemirror_mode": {
    "name": "ipython",
    "version": 2
   },
   "file_extension": ".py",
   "mimetype": "text/x-python",
   "name": "python",
   "nbconvert_exporter": "python",
   "pygments_lexer": "ipython2",
   "version": "2.7.13"
  }
 },
 "nbformat": 4,
 "nbformat_minor": 2
}
